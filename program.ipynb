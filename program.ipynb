{
 "cells": [
  {
   "cell_type": "code",
   "execution_count": 1,
   "metadata": {},
   "outputs": [
    {
     "name": "stdout",
     "output_type": "stream",
     "text": [
      "Сминающее давление 40.5 МПа\n",
      "Внутреннее давление 56.7 МПа\n",
      "4624.0\n"
     ]
    }
   ],
   "source": [
    "from __future__ import print_function\n",
    "from ipywidgets import interact, interactive, fixed, interact_manual\n",
    "import ipywidgets as widgets\n",
    "\n",
    "def Collapse (dn,t,T) :\n",
    "    #Расчет максимального наружного/сминающего давления в МПа по стандарту АНИ\n",
    "    c0=2.8762\n",
    "    c1=0.10679/100000\n",
    "    c2=0.21302/10000000000\n",
    "    c3=-0.53132/10000000000000000\n",
    "    c4=0.026233\n",
    "    c5=0.50609/1000000\n",
    "    c6=-465.93\n",
    "    c7=0.030867\n",
    "    c8=-0.10483/10000000\n",
    "    c9=0.36989/10000000000000\n",
    "    c10=46.95*1000000\n",
    "\n",
    "    F1=c0+c1*T+c2*(T**2)+c3*(T**3)\n",
    "    F2=c4+c5*T\n",
    "    F3=c6+c7*T+c8*(T**2)+c9*(T**3)\n",
    "    RF=F2/F1\n",
    "    F4=c10*((3*RF/(2+RF))**3)/T/(3*RF/(2+RF)-RF)/((1-3*RF/(2+RF))**2)\n",
    "    F5=F4*RF\n",
    "    \n",
    "    t1=(((((F1-2)**2)+8*(F2+F3/T))**0.5)+(F1-2))/(2*(F2+(F3/T)))\n",
    "    t3=(2+(F2/F1))/((3*F2)/F1)\n",
    "    t2=(T*(F1-F4))/(F3+T*(F2-F5))\n",
    "    \n",
    "    if dn/t < t1:\n",
    "        Pcr=2*T*((dn/t-1)/((dn/t)**2))\n",
    "\n",
    "    if t1 < dn/t < t2:   \n",
    "        \n",
    "        Pcr=T*((F1/(dn/t)-F2))-F3\n",
    "    \n",
    "    if t2 < dn/t < t3:\n",
    "        \n",
    "        Pcr=T*(F4/(dn/t)-F5)\n",
    "    \n",
    "    if dn/t > t3:\n",
    "        \n",
    "        Pcr=(46.95*(10)**6)/((dn/t)*((dn/t-1)**2))\n",
    "    \n",
    "    #print(t1,t2,t3,dn/t,F4,F5)\n",
    "    #print(dn,t,Pcr)\n",
    "    #d=round(dn*25.4,2)\n",
    "    #print(d)\n",
    "    #print(str(round(dn*25.4,2)),str(round(t*25.4,2)),str(round(Pcr*0.00689475729317831,2)))\n",
    "\n",
    "    return str(round(Pcr*0.00689475729317831,1))\n",
    "\n",
    "def Internal (dn,t,T) :\n",
    "    #Расчет максимального внутреннего давления в МПа\n",
    "    Pint=0.875*(2*T*t/dn)\n",
    "    return str(round(Pint*0.00689475729317831,1))\n",
    "\n",
    "def Tension (dn,t,T) :\n",
    "    Ntr=0.785*(dn**2-(dn-t*2)**2)*T\n",
    "    return str(round(Ntr/224.81,0))\n",
    "\n",
    "\n",
    "print('Сминающее давление '+Collapse (8.625,0.450,90000)+' МПа')\n",
    "print(\"Внутреннее давление \"+Internal (8.625,0.450,90000)+\" МПа\")\n",
    "print(Tension(8.625,0.450,90000))\n",
    "\n"
   ]
  },
  {
   "cell_type": "code",
   "execution_count": 54,
   "metadata": {},
   "outputs": [],
   "source": [
    "#Массив диамтров. Значения в дюймах \n",
    "D_mas=[('Диаметр...',0),('114.30', 4.500), ('127.00', 5.000), ('139.70', 5.5000), ('146.05',6.625),('168.28', 7.000),('177.80', 7.625),('193.68', 8.625), ('219.08', 9.625), ('244.48',9.875)]\n",
    "#f=D_mas[0]\n",
    "\n",
    "#Масив толщин стенок. Ключ - димаетр трубы. Значения в дюймах.\n",
    "T_mas={'114.30':[('1', 1),('2', 2)],\n",
    "      '127.00':[('3', 3),('4', 4)]}\n",
    "\n",
    "#Массив групп прочности. Предел текучести\n",
    "S_mas=[('J-55',55000),()]\n",
    "\n",
    "#Выбор диаметра трубы. Начальное состояние\n",
    "D=widgets.Dropdown(\n",
    "    options=D_mas, #Массив меток и значений\n",
    "    #value=f[1], #Если не установлено берет первое значение массива\n",
    "    description='Наружный диаметр:', #Описание дропбокса\n",
    ")\n",
    "\n",
    "#Выбор толщины стенки. Начальное состояние\n",
    "T=widgets.Dropdown(\n",
    "    options=[('Стенка...',0)],\n",
    "    #value=f[1],\n",
    "    description='Толщина стенки:',\n",
    "    disabled=True, #Поле не активно\n",
    ")\n",
    "\n",
    "\n",
    "#обработчик выбора деаметра\n",
    "def value_change_D(change):\n",
    "    if T.disabled == True:\n",
    "        f=D_mas[D.index]\n",
    "        T.options=T_mas[f[0]]\n",
    "        T.disabled=False\n",
    "    if T.disabled == False:\n",
    "        f=D_mas[D.index]\n",
    "        T.options=T_mas[f[0]]\n",
    "                 \n",
    "\n",
    "D.observe(value_change_D, names='value')"
   ]
  },
  {
   "cell_type": "code",
   "execution_count": 56,
   "metadata": {},
   "outputs": [
    {
     "data": {
      "application/vnd.jupyter.widget-view+json": {
       "model_id": "6f7ca2e6d15d41eaa5a66e43759a24ba",
       "version_major": 2,
       "version_minor": 0
      },
      "text/plain": [
       "Dropdown(description='Наружный диаметр:', options=(('Диаметр...', 0), ('114.30', 4.5), ('127.00', 5.0), ('139.…"
      ]
     },
     "metadata": {},
     "output_type": "display_data"
    },
    {
     "data": {
      "application/vnd.jupyter.widget-view+json": {
       "model_id": "3fed6f6c683744c5ab3f69b7fe37d595",
       "version_major": 2,
       "version_minor": 0
      },
      "text/plain": [
       "Dropdown(description='Толщина стенки:', options=(('3', 3), ('4', 4)), value=3)"
      ]
     },
     "metadata": {},
     "output_type": "display_data"
    }
   ],
   "source": [
    "display(D,T)\n",
    "#D.options\n",
    "#print(D.index)\n",
    "#f=D_mas[D.index]\n",
    "#f\n",
    "#f[0]"
   ]
  },
  {
   "cell_type": "code",
   "execution_count": 14,
   "metadata": {},
   "outputs": [
    {
     "data": {
      "text/plain": [
       "4.5"
      ]
     },
     "execution_count": 14,
     "metadata": {},
     "output_type": "execute_result"
    }
   ],
   "source": [
    "f=D_mas[0]\n",
    "f[1]"
   ]
  },
  {
   "cell_type": "code",
   "execution_count": 47,
   "metadata": {},
   "outputs": [],
   "source": []
  },
  {
   "cell_type": "code",
   "execution_count": null,
   "metadata": {},
   "outputs": [],
   "source": []
  }
 ],
 "metadata": {
  "kernelspec": {
   "display_name": "Python 3",
   "language": "python",
   "name": "python3"
  },
  "language_info": {
   "codemirror_mode": {
    "name": "ipython",
    "version": 3
   },
   "file_extension": ".py",
   "mimetype": "text/x-python",
   "name": "python",
   "nbconvert_exporter": "python",
   "pygments_lexer": "ipython3",
   "version": "3.6.2"
  }
 },
 "nbformat": 4,
 "nbformat_minor": 2
}
